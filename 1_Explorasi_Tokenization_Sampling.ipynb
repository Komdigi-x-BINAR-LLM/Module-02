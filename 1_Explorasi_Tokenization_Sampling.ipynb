{
  "nbformat": 4,
  "nbformat_minor": 0,
  "metadata": {
    "colab": {
      "provenance": []
    },
    "kernelspec": {
      "name": "python3",
      "display_name": "Python 3"
    },
    "language_info": {
      "name": "python"
    },
    "widgets": {
      "application/vnd.jupyter.widget-state+json": {
        "cdd258cd2cdf43eabd1c944f89dbc058": {
          "model_module": "@jupyter-widgets/controls",
          "model_name": "HBoxModel",
          "model_module_version": "1.5.0",
          "state": {
            "_dom_classes": [],
            "_model_module": "@jupyter-widgets/controls",
            "_model_module_version": "1.5.0",
            "_model_name": "HBoxModel",
            "_view_count": null,
            "_view_module": "@jupyter-widgets/controls",
            "_view_module_version": "1.5.0",
            "_view_name": "HBoxView",
            "box_style": "",
            "children": [
              "IPY_MODEL_28a1b9aa0e304f81b421f2a135091458",
              "IPY_MODEL_2080244503a1481e9d8750a49ae14cd7",
              "IPY_MODEL_131a7e6eed4149649f728ba9449719d4"
            ],
            "layout": "IPY_MODEL_c5b94c1e83c94664b01ce7f0e0740c7d"
          }
        },
        "28a1b9aa0e304f81b421f2a135091458": {
          "model_module": "@jupyter-widgets/controls",
          "model_name": "HTMLModel",
          "model_module_version": "1.5.0",
          "state": {
            "_dom_classes": [],
            "_model_module": "@jupyter-widgets/controls",
            "_model_module_version": "1.5.0",
            "_model_name": "HTMLModel",
            "_view_count": null,
            "_view_module": "@jupyter-widgets/controls",
            "_view_module_version": "1.5.0",
            "_view_name": "HTMLView",
            "description": "",
            "description_tooltip": null,
            "layout": "IPY_MODEL_2396f6847bc64d5badb1093cf079aa21",
            "placeholder": "​",
            "style": "IPY_MODEL_8675d8a1b9af4e56ab930db9d3ea5b24",
            "value": "tokenizer_config.json: "
          }
        },
        "2080244503a1481e9d8750a49ae14cd7": {
          "model_module": "@jupyter-widgets/controls",
          "model_name": "FloatProgressModel",
          "model_module_version": "1.5.0",
          "state": {
            "_dom_classes": [],
            "_model_module": "@jupyter-widgets/controls",
            "_model_module_version": "1.5.0",
            "_model_name": "FloatProgressModel",
            "_view_count": null,
            "_view_module": "@jupyter-widgets/controls",
            "_view_module_version": "1.5.0",
            "_view_name": "ProgressView",
            "bar_style": "success",
            "description": "",
            "description_tooltip": null,
            "layout": "IPY_MODEL_a4c9f2190e51444388d2fb8ea53e76d8",
            "max": 1,
            "min": 0,
            "orientation": "horizontal",
            "style": "IPY_MODEL_9b96a94547c84452adfa6908389475dc",
            "value": 1
          }
        },
        "131a7e6eed4149649f728ba9449719d4": {
          "model_module": "@jupyter-widgets/controls",
          "model_name": "HTMLModel",
          "model_module_version": "1.5.0",
          "state": {
            "_dom_classes": [],
            "_model_module": "@jupyter-widgets/controls",
            "_model_module_version": "1.5.0",
            "_model_name": "HTMLModel",
            "_view_count": null,
            "_view_module": "@jupyter-widgets/controls",
            "_view_module_version": "1.5.0",
            "_view_name": "HTMLView",
            "description": "",
            "description_tooltip": null,
            "layout": "IPY_MODEL_84777d6ff01c4b5c808f09e1e8c52b21",
            "placeholder": "​",
            "style": "IPY_MODEL_2168c70986f948d1a6030d3e55c5a89b",
            "value": " 7.30k/? [00:00&lt;00:00, 213kB/s]"
          }
        },
        "c5b94c1e83c94664b01ce7f0e0740c7d": {
          "model_module": "@jupyter-widgets/base",
          "model_name": "LayoutModel",
          "model_module_version": "1.2.0",
          "state": {
            "_model_module": "@jupyter-widgets/base",
            "_model_module_version": "1.2.0",
            "_model_name": "LayoutModel",
            "_view_count": null,
            "_view_module": "@jupyter-widgets/base",
            "_view_module_version": "1.2.0",
            "_view_name": "LayoutView",
            "align_content": null,
            "align_items": null,
            "align_self": null,
            "border": null,
            "bottom": null,
            "display": null,
            "flex": null,
            "flex_flow": null,
            "grid_area": null,
            "grid_auto_columns": null,
            "grid_auto_flow": null,
            "grid_auto_rows": null,
            "grid_column": null,
            "grid_gap": null,
            "grid_row": null,
            "grid_template_areas": null,
            "grid_template_columns": null,
            "grid_template_rows": null,
            "height": null,
            "justify_content": null,
            "justify_items": null,
            "left": null,
            "margin": null,
            "max_height": null,
            "max_width": null,
            "min_height": null,
            "min_width": null,
            "object_fit": null,
            "object_position": null,
            "order": null,
            "overflow": null,
            "overflow_x": null,
            "overflow_y": null,
            "padding": null,
            "right": null,
            "top": null,
            "visibility": null,
            "width": null
          }
        },
        "2396f6847bc64d5badb1093cf079aa21": {
          "model_module": "@jupyter-widgets/base",
          "model_name": "LayoutModel",
          "model_module_version": "1.2.0",
          "state": {
            "_model_module": "@jupyter-widgets/base",
            "_model_module_version": "1.2.0",
            "_model_name": "LayoutModel",
            "_view_count": null,
            "_view_module": "@jupyter-widgets/base",
            "_view_module_version": "1.2.0",
            "_view_name": "LayoutView",
            "align_content": null,
            "align_items": null,
            "align_self": null,
            "border": null,
            "bottom": null,
            "display": null,
            "flex": null,
            "flex_flow": null,
            "grid_area": null,
            "grid_auto_columns": null,
            "grid_auto_flow": null,
            "grid_auto_rows": null,
            "grid_column": null,
            "grid_gap": null,
            "grid_row": null,
            "grid_template_areas": null,
            "grid_template_columns": null,
            "grid_template_rows": null,
            "height": null,
            "justify_content": null,
            "justify_items": null,
            "left": null,
            "margin": null,
            "max_height": null,
            "max_width": null,
            "min_height": null,
            "min_width": null,
            "object_fit": null,
            "object_position": null,
            "order": null,
            "overflow": null,
            "overflow_x": null,
            "overflow_y": null,
            "padding": null,
            "right": null,
            "top": null,
            "visibility": null,
            "width": null
          }
        },
        "8675d8a1b9af4e56ab930db9d3ea5b24": {
          "model_module": "@jupyter-widgets/controls",
          "model_name": "DescriptionStyleModel",
          "model_module_version": "1.5.0",
          "state": {
            "_model_module": "@jupyter-widgets/controls",
            "_model_module_version": "1.5.0",
            "_model_name": "DescriptionStyleModel",
            "_view_count": null,
            "_view_module": "@jupyter-widgets/base",
            "_view_module_version": "1.2.0",
            "_view_name": "StyleView",
            "description_width": ""
          }
        },
        "a4c9f2190e51444388d2fb8ea53e76d8": {
          "model_module": "@jupyter-widgets/base",
          "model_name": "LayoutModel",
          "model_module_version": "1.2.0",
          "state": {
            "_model_module": "@jupyter-widgets/base",
            "_model_module_version": "1.2.0",
            "_model_name": "LayoutModel",
            "_view_count": null,
            "_view_module": "@jupyter-widgets/base",
            "_view_module_version": "1.2.0",
            "_view_name": "LayoutView",
            "align_content": null,
            "align_items": null,
            "align_self": null,
            "border": null,
            "bottom": null,
            "display": null,
            "flex": null,
            "flex_flow": null,
            "grid_area": null,
            "grid_auto_columns": null,
            "grid_auto_flow": null,
            "grid_auto_rows": null,
            "grid_column": null,
            "grid_gap": null,
            "grid_row": null,
            "grid_template_areas": null,
            "grid_template_columns": null,
            "grid_template_rows": null,
            "height": null,
            "justify_content": null,
            "justify_items": null,
            "left": null,
            "margin": null,
            "max_height": null,
            "max_width": null,
            "min_height": null,
            "min_width": null,
            "object_fit": null,
            "object_position": null,
            "order": null,
            "overflow": null,
            "overflow_x": null,
            "overflow_y": null,
            "padding": null,
            "right": null,
            "top": null,
            "visibility": null,
            "width": "20px"
          }
        },
        "9b96a94547c84452adfa6908389475dc": {
          "model_module": "@jupyter-widgets/controls",
          "model_name": "ProgressStyleModel",
          "model_module_version": "1.5.0",
          "state": {
            "_model_module": "@jupyter-widgets/controls",
            "_model_module_version": "1.5.0",
            "_model_name": "ProgressStyleModel",
            "_view_count": null,
            "_view_module": "@jupyter-widgets/base",
            "_view_module_version": "1.2.0",
            "_view_name": "StyleView",
            "bar_color": null,
            "description_width": ""
          }
        },
        "84777d6ff01c4b5c808f09e1e8c52b21": {
          "model_module": "@jupyter-widgets/base",
          "model_name": "LayoutModel",
          "model_module_version": "1.2.0",
          "state": {
            "_model_module": "@jupyter-widgets/base",
            "_model_module_version": "1.2.0",
            "_model_name": "LayoutModel",
            "_view_count": null,
            "_view_module": "@jupyter-widgets/base",
            "_view_module_version": "1.2.0",
            "_view_name": "LayoutView",
            "align_content": null,
            "align_items": null,
            "align_self": null,
            "border": null,
            "bottom": null,
            "display": null,
            "flex": null,
            "flex_flow": null,
            "grid_area": null,
            "grid_auto_columns": null,
            "grid_auto_flow": null,
            "grid_auto_rows": null,
            "grid_column": null,
            "grid_gap": null,
            "grid_row": null,
            "grid_template_areas": null,
            "grid_template_columns": null,
            "grid_template_rows": null,
            "height": null,
            "justify_content": null,
            "justify_items": null,
            "left": null,
            "margin": null,
            "max_height": null,
            "max_width": null,
            "min_height": null,
            "min_width": null,
            "object_fit": null,
            "object_position": null,
            "order": null,
            "overflow": null,
            "overflow_x": null,
            "overflow_y": null,
            "padding": null,
            "right": null,
            "top": null,
            "visibility": null,
            "width": null
          }
        },
        "2168c70986f948d1a6030d3e55c5a89b": {
          "model_module": "@jupyter-widgets/controls",
          "model_name": "DescriptionStyleModel",
          "model_module_version": "1.5.0",
          "state": {
            "_model_module": "@jupyter-widgets/controls",
            "_model_module_version": "1.5.0",
            "_model_name": "DescriptionStyleModel",
            "_view_count": null,
            "_view_module": "@jupyter-widgets/base",
            "_view_module_version": "1.2.0",
            "_view_name": "StyleView",
            "description_width": ""
          }
        },
        "c5cca5144657498384c21080d5cd198c": {
          "model_module": "@jupyter-widgets/controls",
          "model_name": "HBoxModel",
          "model_module_version": "1.5.0",
          "state": {
            "_dom_classes": [],
            "_model_module": "@jupyter-widgets/controls",
            "_model_module_version": "1.5.0",
            "_model_name": "HBoxModel",
            "_view_count": null,
            "_view_module": "@jupyter-widgets/controls",
            "_view_module_version": "1.5.0",
            "_view_name": "HBoxView",
            "box_style": "",
            "children": [
              "IPY_MODEL_0481a7e3003e45959702c2cb9634d064",
              "IPY_MODEL_04a539cbb2e1405dba56ce029fd59aed",
              "IPY_MODEL_647c85a3a04f432e978f58eae603bb1f"
            ],
            "layout": "IPY_MODEL_f343fa9488d8437c9aaa4d200a25563e"
          }
        },
        "0481a7e3003e45959702c2cb9634d064": {
          "model_module": "@jupyter-widgets/controls",
          "model_name": "HTMLModel",
          "model_module_version": "1.5.0",
          "state": {
            "_dom_classes": [],
            "_model_module": "@jupyter-widgets/controls",
            "_model_module_version": "1.5.0",
            "_model_name": "HTMLModel",
            "_view_count": null,
            "_view_module": "@jupyter-widgets/controls",
            "_view_module_version": "1.5.0",
            "_view_name": "HTMLView",
            "description": "",
            "description_tooltip": null,
            "layout": "IPY_MODEL_7c364fefa2834e848716396230be44fb",
            "placeholder": "​",
            "style": "IPY_MODEL_77964db58c254aa18eb4c5e72d560bf9",
            "value": "vocab.json: "
          }
        },
        "04a539cbb2e1405dba56ce029fd59aed": {
          "model_module": "@jupyter-widgets/controls",
          "model_name": "FloatProgressModel",
          "model_module_version": "1.5.0",
          "state": {
            "_dom_classes": [],
            "_model_module": "@jupyter-widgets/controls",
            "_model_module_version": "1.5.0",
            "_model_name": "FloatProgressModel",
            "_view_count": null,
            "_view_module": "@jupyter-widgets/controls",
            "_view_module_version": "1.5.0",
            "_view_name": "ProgressView",
            "bar_style": "success",
            "description": "",
            "description_tooltip": null,
            "layout": "IPY_MODEL_33ab587cab164f8dad7b597251f42695",
            "max": 1,
            "min": 0,
            "orientation": "horizontal",
            "style": "IPY_MODEL_ab19a19ac7c34cd9bc9f41ec6b485560",
            "value": 1
          }
        },
        "647c85a3a04f432e978f58eae603bb1f": {
          "model_module": "@jupyter-widgets/controls",
          "model_name": "HTMLModel",
          "model_module_version": "1.5.0",
          "state": {
            "_dom_classes": [],
            "_model_module": "@jupyter-widgets/controls",
            "_model_module_version": "1.5.0",
            "_model_name": "HTMLModel",
            "_view_count": null,
            "_view_module": "@jupyter-widgets/controls",
            "_view_module_version": "1.5.0",
            "_view_name": "HTMLView",
            "description": "",
            "description_tooltip": null,
            "layout": "IPY_MODEL_5a844add78454d62b87490c1962b507d",
            "placeholder": "​",
            "style": "IPY_MODEL_e8f1bd1936ad463dbb19d37d25fbb8a5",
            "value": " 2.78M/? [00:00&lt;00:00, 10.3MB/s]"
          }
        },
        "f343fa9488d8437c9aaa4d200a25563e": {
          "model_module": "@jupyter-widgets/base",
          "model_name": "LayoutModel",
          "model_module_version": "1.2.0",
          "state": {
            "_model_module": "@jupyter-widgets/base",
            "_model_module_version": "1.2.0",
            "_model_name": "LayoutModel",
            "_view_count": null,
            "_view_module": "@jupyter-widgets/base",
            "_view_module_version": "1.2.0",
            "_view_name": "LayoutView",
            "align_content": null,
            "align_items": null,
            "align_self": null,
            "border": null,
            "bottom": null,
            "display": null,
            "flex": null,
            "flex_flow": null,
            "grid_area": null,
            "grid_auto_columns": null,
            "grid_auto_flow": null,
            "grid_auto_rows": null,
            "grid_column": null,
            "grid_gap": null,
            "grid_row": null,
            "grid_template_areas": null,
            "grid_template_columns": null,
            "grid_template_rows": null,
            "height": null,
            "justify_content": null,
            "justify_items": null,
            "left": null,
            "margin": null,
            "max_height": null,
            "max_width": null,
            "min_height": null,
            "min_width": null,
            "object_fit": null,
            "object_position": null,
            "order": null,
            "overflow": null,
            "overflow_x": null,
            "overflow_y": null,
            "padding": null,
            "right": null,
            "top": null,
            "visibility": null,
            "width": null
          }
        },
        "7c364fefa2834e848716396230be44fb": {
          "model_module": "@jupyter-widgets/base",
          "model_name": "LayoutModel",
          "model_module_version": "1.2.0",
          "state": {
            "_model_module": "@jupyter-widgets/base",
            "_model_module_version": "1.2.0",
            "_model_name": "LayoutModel",
            "_view_count": null,
            "_view_module": "@jupyter-widgets/base",
            "_view_module_version": "1.2.0",
            "_view_name": "LayoutView",
            "align_content": null,
            "align_items": null,
            "align_self": null,
            "border": null,
            "bottom": null,
            "display": null,
            "flex": null,
            "flex_flow": null,
            "grid_area": null,
            "grid_auto_columns": null,
            "grid_auto_flow": null,
            "grid_auto_rows": null,
            "grid_column": null,
            "grid_gap": null,
            "grid_row": null,
            "grid_template_areas": null,
            "grid_template_columns": null,
            "grid_template_rows": null,
            "height": null,
            "justify_content": null,
            "justify_items": null,
            "left": null,
            "margin": null,
            "max_height": null,
            "max_width": null,
            "min_height": null,
            "min_width": null,
            "object_fit": null,
            "object_position": null,
            "order": null,
            "overflow": null,
            "overflow_x": null,
            "overflow_y": null,
            "padding": null,
            "right": null,
            "top": null,
            "visibility": null,
            "width": null
          }
        },
        "77964db58c254aa18eb4c5e72d560bf9": {
          "model_module": "@jupyter-widgets/controls",
          "model_name": "DescriptionStyleModel",
          "model_module_version": "1.5.0",
          "state": {
            "_model_module": "@jupyter-widgets/controls",
            "_model_module_version": "1.5.0",
            "_model_name": "DescriptionStyleModel",
            "_view_count": null,
            "_view_module": "@jupyter-widgets/base",
            "_view_module_version": "1.2.0",
            "_view_name": "StyleView",
            "description_width": ""
          }
        },
        "33ab587cab164f8dad7b597251f42695": {
          "model_module": "@jupyter-widgets/base",
          "model_name": "LayoutModel",
          "model_module_version": "1.2.0",
          "state": {
            "_model_module": "@jupyter-widgets/base",
            "_model_module_version": "1.2.0",
            "_model_name": "LayoutModel",
            "_view_count": null,
            "_view_module": "@jupyter-widgets/base",
            "_view_module_version": "1.2.0",
            "_view_name": "LayoutView",
            "align_content": null,
            "align_items": null,
            "align_self": null,
            "border": null,
            "bottom": null,
            "display": null,
            "flex": null,
            "flex_flow": null,
            "grid_area": null,
            "grid_auto_columns": null,
            "grid_auto_flow": null,
            "grid_auto_rows": null,
            "grid_column": null,
            "grid_gap": null,
            "grid_row": null,
            "grid_template_areas": null,
            "grid_template_columns": null,
            "grid_template_rows": null,
            "height": null,
            "justify_content": null,
            "justify_items": null,
            "left": null,
            "margin": null,
            "max_height": null,
            "max_width": null,
            "min_height": null,
            "min_width": null,
            "object_fit": null,
            "object_position": null,
            "order": null,
            "overflow": null,
            "overflow_x": null,
            "overflow_y": null,
            "padding": null,
            "right": null,
            "top": null,
            "visibility": null,
            "width": "20px"
          }
        },
        "ab19a19ac7c34cd9bc9f41ec6b485560": {
          "model_module": "@jupyter-widgets/controls",
          "model_name": "ProgressStyleModel",
          "model_module_version": "1.5.0",
          "state": {
            "_model_module": "@jupyter-widgets/controls",
            "_model_module_version": "1.5.0",
            "_model_name": "ProgressStyleModel",
            "_view_count": null,
            "_view_module": "@jupyter-widgets/base",
            "_view_module_version": "1.2.0",
            "_view_name": "StyleView",
            "bar_color": null,
            "description_width": ""
          }
        },
        "5a844add78454d62b87490c1962b507d": {
          "model_module": "@jupyter-widgets/base",
          "model_name": "LayoutModel",
          "model_module_version": "1.2.0",
          "state": {
            "_model_module": "@jupyter-widgets/base",
            "_model_module_version": "1.2.0",
            "_model_name": "LayoutModel",
            "_view_count": null,
            "_view_module": "@jupyter-widgets/base",
            "_view_module_version": "1.2.0",
            "_view_name": "LayoutView",
            "align_content": null,
            "align_items": null,
            "align_self": null,
            "border": null,
            "bottom": null,
            "display": null,
            "flex": null,
            "flex_flow": null,
            "grid_area": null,
            "grid_auto_columns": null,
            "grid_auto_flow": null,
            "grid_auto_rows": null,
            "grid_column": null,
            "grid_gap": null,
            "grid_row": null,
            "grid_template_areas": null,
            "grid_template_columns": null,
            "grid_template_rows": null,
            "height": null,
            "justify_content": null,
            "justify_items": null,
            "left": null,
            "margin": null,
            "max_height": null,
            "max_width": null,
            "min_height": null,
            "min_width": null,
            "object_fit": null,
            "object_position": null,
            "order": null,
            "overflow": null,
            "overflow_x": null,
            "overflow_y": null,
            "padding": null,
            "right": null,
            "top": null,
            "visibility": null,
            "width": null
          }
        },
        "e8f1bd1936ad463dbb19d37d25fbb8a5": {
          "model_module": "@jupyter-widgets/controls",
          "model_name": "DescriptionStyleModel",
          "model_module_version": "1.5.0",
          "state": {
            "_model_module": "@jupyter-widgets/controls",
            "_model_module_version": "1.5.0",
            "_model_name": "DescriptionStyleModel",
            "_view_count": null,
            "_view_module": "@jupyter-widgets/base",
            "_view_module_version": "1.2.0",
            "_view_name": "StyleView",
            "description_width": ""
          }
        },
        "1f81634c533e42329deda46e8e97ff96": {
          "model_module": "@jupyter-widgets/controls",
          "model_name": "HBoxModel",
          "model_module_version": "1.5.0",
          "state": {
            "_dom_classes": [],
            "_model_module": "@jupyter-widgets/controls",
            "_model_module_version": "1.5.0",
            "_model_name": "HBoxModel",
            "_view_count": null,
            "_view_module": "@jupyter-widgets/controls",
            "_view_module_version": "1.5.0",
            "_view_name": "HBoxView",
            "box_style": "",
            "children": [
              "IPY_MODEL_62501ed58ddb4acba935ee28c081950f",
              "IPY_MODEL_01014e53ff754ed6801c9e3ed41f0399",
              "IPY_MODEL_541de12fbae642a796492f379482186d"
            ],
            "layout": "IPY_MODEL_ac72982b4e6944c5ac49e009563ecd5c"
          }
        },
        "62501ed58ddb4acba935ee28c081950f": {
          "model_module": "@jupyter-widgets/controls",
          "model_name": "HTMLModel",
          "model_module_version": "1.5.0",
          "state": {
            "_dom_classes": [],
            "_model_module": "@jupyter-widgets/controls",
            "_model_module_version": "1.5.0",
            "_model_name": "HTMLModel",
            "_view_count": null,
            "_view_module": "@jupyter-widgets/controls",
            "_view_module_version": "1.5.0",
            "_view_name": "HTMLView",
            "description": "",
            "description_tooltip": null,
            "layout": "IPY_MODEL_95b24878e9c54ac78c7015269f06d475",
            "placeholder": "​",
            "style": "IPY_MODEL_f43e507ed4694094ab7d7d406a8d2309",
            "value": "merges.txt: "
          }
        },
        "01014e53ff754ed6801c9e3ed41f0399": {
          "model_module": "@jupyter-widgets/controls",
          "model_name": "FloatProgressModel",
          "model_module_version": "1.5.0",
          "state": {
            "_dom_classes": [],
            "_model_module": "@jupyter-widgets/controls",
            "_model_module_version": "1.5.0",
            "_model_name": "FloatProgressModel",
            "_view_count": null,
            "_view_module": "@jupyter-widgets/controls",
            "_view_module_version": "1.5.0",
            "_view_name": "ProgressView",
            "bar_style": "success",
            "description": "",
            "description_tooltip": null,
            "layout": "IPY_MODEL_6dec3d35114141f390d7666cc7ed7c09",
            "max": 1,
            "min": 0,
            "orientation": "horizontal",
            "style": "IPY_MODEL_0e1a11c589a6457d96cd7fd8c0ad7874",
            "value": 1
          }
        },
        "541de12fbae642a796492f379482186d": {
          "model_module": "@jupyter-widgets/controls",
          "model_name": "HTMLModel",
          "model_module_version": "1.5.0",
          "state": {
            "_dom_classes": [],
            "_model_module": "@jupyter-widgets/controls",
            "_model_module_version": "1.5.0",
            "_model_name": "HTMLModel",
            "_view_count": null,
            "_view_module": "@jupyter-widgets/controls",
            "_view_module_version": "1.5.0",
            "_view_name": "HTMLView",
            "description": "",
            "description_tooltip": null,
            "layout": "IPY_MODEL_d367f1e6b5b24b858204c6072d77fafb",
            "placeholder": "​",
            "style": "IPY_MODEL_7082c366d18244f585ce736a1128081c",
            "value": " 1.67M/? [00:00&lt;00:00, 22.7MB/s]"
          }
        },
        "ac72982b4e6944c5ac49e009563ecd5c": {
          "model_module": "@jupyter-widgets/base",
          "model_name": "LayoutModel",
          "model_module_version": "1.2.0",
          "state": {
            "_model_module": "@jupyter-widgets/base",
            "_model_module_version": "1.2.0",
            "_model_name": "LayoutModel",
            "_view_count": null,
            "_view_module": "@jupyter-widgets/base",
            "_view_module_version": "1.2.0",
            "_view_name": "LayoutView",
            "align_content": null,
            "align_items": null,
            "align_self": null,
            "border": null,
            "bottom": null,
            "display": null,
            "flex": null,
            "flex_flow": null,
            "grid_area": null,
            "grid_auto_columns": null,
            "grid_auto_flow": null,
            "grid_auto_rows": null,
            "grid_column": null,
            "grid_gap": null,
            "grid_row": null,
            "grid_template_areas": null,
            "grid_template_columns": null,
            "grid_template_rows": null,
            "height": null,
            "justify_content": null,
            "justify_items": null,
            "left": null,
            "margin": null,
            "max_height": null,
            "max_width": null,
            "min_height": null,
            "min_width": null,
            "object_fit": null,
            "object_position": null,
            "order": null,
            "overflow": null,
            "overflow_x": null,
            "overflow_y": null,
            "padding": null,
            "right": null,
            "top": null,
            "visibility": null,
            "width": null
          }
        },
        "95b24878e9c54ac78c7015269f06d475": {
          "model_module": "@jupyter-widgets/base",
          "model_name": "LayoutModel",
          "model_module_version": "1.2.0",
          "state": {
            "_model_module": "@jupyter-widgets/base",
            "_model_module_version": "1.2.0",
            "_model_name": "LayoutModel",
            "_view_count": null,
            "_view_module": "@jupyter-widgets/base",
            "_view_module_version": "1.2.0",
            "_view_name": "LayoutView",
            "align_content": null,
            "align_items": null,
            "align_self": null,
            "border": null,
            "bottom": null,
            "display": null,
            "flex": null,
            "flex_flow": null,
            "grid_area": null,
            "grid_auto_columns": null,
            "grid_auto_flow": null,
            "grid_auto_rows": null,
            "grid_column": null,
            "grid_gap": null,
            "grid_row": null,
            "grid_template_areas": null,
            "grid_template_columns": null,
            "grid_template_rows": null,
            "height": null,
            "justify_content": null,
            "justify_items": null,
            "left": null,
            "margin": null,
            "max_height": null,
            "max_width": null,
            "min_height": null,
            "min_width": null,
            "object_fit": null,
            "object_position": null,
            "order": null,
            "overflow": null,
            "overflow_x": null,
            "overflow_y": null,
            "padding": null,
            "right": null,
            "top": null,
            "visibility": null,
            "width": null
          }
        },
        "f43e507ed4694094ab7d7d406a8d2309": {
          "model_module": "@jupyter-widgets/controls",
          "model_name": "DescriptionStyleModel",
          "model_module_version": "1.5.0",
          "state": {
            "_model_module": "@jupyter-widgets/controls",
            "_model_module_version": "1.5.0",
            "_model_name": "DescriptionStyleModel",
            "_view_count": null,
            "_view_module": "@jupyter-widgets/base",
            "_view_module_version": "1.2.0",
            "_view_name": "StyleView",
            "description_width": ""
          }
        },
        "6dec3d35114141f390d7666cc7ed7c09": {
          "model_module": "@jupyter-widgets/base",
          "model_name": "LayoutModel",
          "model_module_version": "1.2.0",
          "state": {
            "_model_module": "@jupyter-widgets/base",
            "_model_module_version": "1.2.0",
            "_model_name": "LayoutModel",
            "_view_count": null,
            "_view_module": "@jupyter-widgets/base",
            "_view_module_version": "1.2.0",
            "_view_name": "LayoutView",
            "align_content": null,
            "align_items": null,
            "align_self": null,
            "border": null,
            "bottom": null,
            "display": null,
            "flex": null,
            "flex_flow": null,
            "grid_area": null,
            "grid_auto_columns": null,
            "grid_auto_flow": null,
            "grid_auto_rows": null,
            "grid_column": null,
            "grid_gap": null,
            "grid_row": null,
            "grid_template_areas": null,
            "grid_template_columns": null,
            "grid_template_rows": null,
            "height": null,
            "justify_content": null,
            "justify_items": null,
            "left": null,
            "margin": null,
            "max_height": null,
            "max_width": null,
            "min_height": null,
            "min_width": null,
            "object_fit": null,
            "object_position": null,
            "order": null,
            "overflow": null,
            "overflow_x": null,
            "overflow_y": null,
            "padding": null,
            "right": null,
            "top": null,
            "visibility": null,
            "width": "20px"
          }
        },
        "0e1a11c589a6457d96cd7fd8c0ad7874": {
          "model_module": "@jupyter-widgets/controls",
          "model_name": "ProgressStyleModel",
          "model_module_version": "1.5.0",
          "state": {
            "_model_module": "@jupyter-widgets/controls",
            "_model_module_version": "1.5.0",
            "_model_name": "ProgressStyleModel",
            "_view_count": null,
            "_view_module": "@jupyter-widgets/base",
            "_view_module_version": "1.2.0",
            "_view_name": "StyleView",
            "bar_color": null,
            "description_width": ""
          }
        },
        "d367f1e6b5b24b858204c6072d77fafb": {
          "model_module": "@jupyter-widgets/base",
          "model_name": "LayoutModel",
          "model_module_version": "1.2.0",
          "state": {
            "_model_module": "@jupyter-widgets/base",
            "_model_module_version": "1.2.0",
            "_model_name": "LayoutModel",
            "_view_count": null,
            "_view_module": "@jupyter-widgets/base",
            "_view_module_version": "1.2.0",
            "_view_name": "LayoutView",
            "align_content": null,
            "align_items": null,
            "align_self": null,
            "border": null,
            "bottom": null,
            "display": null,
            "flex": null,
            "flex_flow": null,
            "grid_area": null,
            "grid_auto_columns": null,
            "grid_auto_flow": null,
            "grid_auto_rows": null,
            "grid_column": null,
            "grid_gap": null,
            "grid_row": null,
            "grid_template_areas": null,
            "grid_template_columns": null,
            "grid_template_rows": null,
            "height": null,
            "justify_content": null,
            "justify_items": null,
            "left": null,
            "margin": null,
            "max_height": null,
            "max_width": null,
            "min_height": null,
            "min_width": null,
            "object_fit": null,
            "object_position": null,
            "order": null,
            "overflow": null,
            "overflow_x": null,
            "overflow_y": null,
            "padding": null,
            "right": null,
            "top": null,
            "visibility": null,
            "width": null
          }
        },
        "7082c366d18244f585ce736a1128081c": {
          "model_module": "@jupyter-widgets/controls",
          "model_name": "DescriptionStyleModel",
          "model_module_version": "1.5.0",
          "state": {
            "_model_module": "@jupyter-widgets/controls",
            "_model_module_version": "1.5.0",
            "_model_name": "DescriptionStyleModel",
            "_view_count": null,
            "_view_module": "@jupyter-widgets/base",
            "_view_module_version": "1.2.0",
            "_view_name": "StyleView",
            "description_width": ""
          }
        },
        "fad73035e479476b92ac76de9d843a92": {
          "model_module": "@jupyter-widgets/controls",
          "model_name": "HBoxModel",
          "model_module_version": "1.5.0",
          "state": {
            "_dom_classes": [],
            "_model_module": "@jupyter-widgets/controls",
            "_model_module_version": "1.5.0",
            "_model_name": "HBoxModel",
            "_view_count": null,
            "_view_module": "@jupyter-widgets/controls",
            "_view_module_version": "1.5.0",
            "_view_name": "HBoxView",
            "box_style": "",
            "children": [
              "IPY_MODEL_8c6637dd1cd848fabce82ab32f2019f6",
              "IPY_MODEL_b53c2497d3c2455989d4996325e2162b",
              "IPY_MODEL_9f3d21423643449cafee76efbf0997ec"
            ],
            "layout": "IPY_MODEL_5c6a0ed3e7454234bd93dd05d6aacac5"
          }
        },
        "8c6637dd1cd848fabce82ab32f2019f6": {
          "model_module": "@jupyter-widgets/controls",
          "model_name": "HTMLModel",
          "model_module_version": "1.5.0",
          "state": {
            "_dom_classes": [],
            "_model_module": "@jupyter-widgets/controls",
            "_model_module_version": "1.5.0",
            "_model_name": "HTMLModel",
            "_view_count": null,
            "_view_module": "@jupyter-widgets/controls",
            "_view_module_version": "1.5.0",
            "_view_name": "HTMLView",
            "description": "",
            "description_tooltip": null,
            "layout": "IPY_MODEL_cdcfd6c0d9544c1095da5b5b6456e067",
            "placeholder": "​",
            "style": "IPY_MODEL_13ec287d5b384ad091d096e0cbacc97a",
            "value": "tokenizer.json: "
          }
        },
        "b53c2497d3c2455989d4996325e2162b": {
          "model_module": "@jupyter-widgets/controls",
          "model_name": "FloatProgressModel",
          "model_module_version": "1.5.0",
          "state": {
            "_dom_classes": [],
            "_model_module": "@jupyter-widgets/controls",
            "_model_module_version": "1.5.0",
            "_model_name": "FloatProgressModel",
            "_view_count": null,
            "_view_module": "@jupyter-widgets/controls",
            "_view_module_version": "1.5.0",
            "_view_name": "ProgressView",
            "bar_style": "success",
            "description": "",
            "description_tooltip": null,
            "layout": "IPY_MODEL_54324f51e8024791beb482542b1bc43d",
            "max": 1,
            "min": 0,
            "orientation": "horizontal",
            "style": "IPY_MODEL_3de990186937469fa120f047162206e0",
            "value": 1
          }
        },
        "9f3d21423643449cafee76efbf0997ec": {
          "model_module": "@jupyter-widgets/controls",
          "model_name": "HTMLModel",
          "model_module_version": "1.5.0",
          "state": {
            "_dom_classes": [],
            "_model_module": "@jupyter-widgets/controls",
            "_model_module_version": "1.5.0",
            "_model_name": "HTMLModel",
            "_view_count": null,
            "_view_module": "@jupyter-widgets/controls",
            "_view_module_version": "1.5.0",
            "_view_name": "HTMLView",
            "description": "",
            "description_tooltip": null,
            "layout": "IPY_MODEL_e046f10914c24ce4a65f564bac319120",
            "placeholder": "​",
            "style": "IPY_MODEL_38f4898c5939486abbcc1b87680c58f6",
            "value": " 7.03M/? [00:00&lt;00:00, 42.3MB/s]"
          }
        },
        "5c6a0ed3e7454234bd93dd05d6aacac5": {
          "model_module": "@jupyter-widgets/base",
          "model_name": "LayoutModel",
          "model_module_version": "1.2.0",
          "state": {
            "_model_module": "@jupyter-widgets/base",
            "_model_module_version": "1.2.0",
            "_model_name": "LayoutModel",
            "_view_count": null,
            "_view_module": "@jupyter-widgets/base",
            "_view_module_version": "1.2.0",
            "_view_name": "LayoutView",
            "align_content": null,
            "align_items": null,
            "align_self": null,
            "border": null,
            "bottom": null,
            "display": null,
            "flex": null,
            "flex_flow": null,
            "grid_area": null,
            "grid_auto_columns": null,
            "grid_auto_flow": null,
            "grid_auto_rows": null,
            "grid_column": null,
            "grid_gap": null,
            "grid_row": null,
            "grid_template_areas": null,
            "grid_template_columns": null,
            "grid_template_rows": null,
            "height": null,
            "justify_content": null,
            "justify_items": null,
            "left": null,
            "margin": null,
            "max_height": null,
            "max_width": null,
            "min_height": null,
            "min_width": null,
            "object_fit": null,
            "object_position": null,
            "order": null,
            "overflow": null,
            "overflow_x": null,
            "overflow_y": null,
            "padding": null,
            "right": null,
            "top": null,
            "visibility": null,
            "width": null
          }
        },
        "cdcfd6c0d9544c1095da5b5b6456e067": {
          "model_module": "@jupyter-widgets/base",
          "model_name": "LayoutModel",
          "model_module_version": "1.2.0",
          "state": {
            "_model_module": "@jupyter-widgets/base",
            "_model_module_version": "1.2.0",
            "_model_name": "LayoutModel",
            "_view_count": null,
            "_view_module": "@jupyter-widgets/base",
            "_view_module_version": "1.2.0",
            "_view_name": "LayoutView",
            "align_content": null,
            "align_items": null,
            "align_self": null,
            "border": null,
            "bottom": null,
            "display": null,
            "flex": null,
            "flex_flow": null,
            "grid_area": null,
            "grid_auto_columns": null,
            "grid_auto_flow": null,
            "grid_auto_rows": null,
            "grid_column": null,
            "grid_gap": null,
            "grid_row": null,
            "grid_template_areas": null,
            "grid_template_columns": null,
            "grid_template_rows": null,
            "height": null,
            "justify_content": null,
            "justify_items": null,
            "left": null,
            "margin": null,
            "max_height": null,
            "max_width": null,
            "min_height": null,
            "min_width": null,
            "object_fit": null,
            "object_position": null,
            "order": null,
            "overflow": null,
            "overflow_x": null,
            "overflow_y": null,
            "padding": null,
            "right": null,
            "top": null,
            "visibility": null,
            "width": null
          }
        },
        "13ec287d5b384ad091d096e0cbacc97a": {
          "model_module": "@jupyter-widgets/controls",
          "model_name": "DescriptionStyleModel",
          "model_module_version": "1.5.0",
          "state": {
            "_model_module": "@jupyter-widgets/controls",
            "_model_module_version": "1.5.0",
            "_model_name": "DescriptionStyleModel",
            "_view_count": null,
            "_view_module": "@jupyter-widgets/base",
            "_view_module_version": "1.2.0",
            "_view_name": "StyleView",
            "description_width": ""
          }
        },
        "54324f51e8024791beb482542b1bc43d": {
          "model_module": "@jupyter-widgets/base",
          "model_name": "LayoutModel",
          "model_module_version": "1.2.0",
          "state": {
            "_model_module": "@jupyter-widgets/base",
            "_model_module_version": "1.2.0",
            "_model_name": "LayoutModel",
            "_view_count": null,
            "_view_module": "@jupyter-widgets/base",
            "_view_module_version": "1.2.0",
            "_view_name": "LayoutView",
            "align_content": null,
            "align_items": null,
            "align_self": null,
            "border": null,
            "bottom": null,
            "display": null,
            "flex": null,
            "flex_flow": null,
            "grid_area": null,
            "grid_auto_columns": null,
            "grid_auto_flow": null,
            "grid_auto_rows": null,
            "grid_column": null,
            "grid_gap": null,
            "grid_row": null,
            "grid_template_areas": null,
            "grid_template_columns": null,
            "grid_template_rows": null,
            "height": null,
            "justify_content": null,
            "justify_items": null,
            "left": null,
            "margin": null,
            "max_height": null,
            "max_width": null,
            "min_height": null,
            "min_width": null,
            "object_fit": null,
            "object_position": null,
            "order": null,
            "overflow": null,
            "overflow_x": null,
            "overflow_y": null,
            "padding": null,
            "right": null,
            "top": null,
            "visibility": null,
            "width": "20px"
          }
        },
        "3de990186937469fa120f047162206e0": {
          "model_module": "@jupyter-widgets/controls",
          "model_name": "ProgressStyleModel",
          "model_module_version": "1.5.0",
          "state": {
            "_model_module": "@jupyter-widgets/controls",
            "_model_module_version": "1.5.0",
            "_model_name": "ProgressStyleModel",
            "_view_count": null,
            "_view_module": "@jupyter-widgets/base",
            "_view_module_version": "1.2.0",
            "_view_name": "StyleView",
            "bar_color": null,
            "description_width": ""
          }
        },
        "e046f10914c24ce4a65f564bac319120": {
          "model_module": "@jupyter-widgets/base",
          "model_name": "LayoutModel",
          "model_module_version": "1.2.0",
          "state": {
            "_model_module": "@jupyter-widgets/base",
            "_model_module_version": "1.2.0",
            "_model_name": "LayoutModel",
            "_view_count": null,
            "_view_module": "@jupyter-widgets/base",
            "_view_module_version": "1.2.0",
            "_view_name": "LayoutView",
            "align_content": null,
            "align_items": null,
            "align_self": null,
            "border": null,
            "bottom": null,
            "display": null,
            "flex": null,
            "flex_flow": null,
            "grid_area": null,
            "grid_auto_columns": null,
            "grid_auto_flow": null,
            "grid_auto_rows": null,
            "grid_column": null,
            "grid_gap": null,
            "grid_row": null,
            "grid_template_areas": null,
            "grid_template_columns": null,
            "grid_template_rows": null,
            "height": null,
            "justify_content": null,
            "justify_items": null,
            "left": null,
            "margin": null,
            "max_height": null,
            "max_width": null,
            "min_height": null,
            "min_width": null,
            "object_fit": null,
            "object_position": null,
            "order": null,
            "overflow": null,
            "overflow_x": null,
            "overflow_y": null,
            "padding": null,
            "right": null,
            "top": null,
            "visibility": null,
            "width": null
          }
        },
        "38f4898c5939486abbcc1b87680c58f6": {
          "model_module": "@jupyter-widgets/controls",
          "model_name": "DescriptionStyleModel",
          "model_module_version": "1.5.0",
          "state": {
            "_model_module": "@jupyter-widgets/controls",
            "_model_module_version": "1.5.0",
            "_model_name": "DescriptionStyleModel",
            "_view_count": null,
            "_view_module": "@jupyter-widgets/base",
            "_view_module_version": "1.2.0",
            "_view_name": "StyleView",
            "description_width": ""
          }
        }
      }
    }
  },
  "cells": [
    {
      "cell_type": "markdown",
      "source": [
        "## Hands-on Modul 2: Eksplorasi Tokenization & Sampling\n",
        "_Repository GitHub: https://github.com/Komdigi-x-BINAR-LLM/Module-02_\n",
        "\n",
        "**Tujuan:** Memvisualisasikan konsep Tokenization dan efek Sampling pada LLM."
      ],
      "metadata": {
        "id": "Bo3ydDEdIL6X"
      }
    },
    {
      "cell_type": "markdown",
      "source": [
        "# Instalasi Library"
      ],
      "metadata": {
        "id": "uxI6zMVSF92e"
      }
    },
    {
      "cell_type": "code",
      "execution_count": 1,
      "metadata": {
        "id": "P0D1n9RAnfP8"
      },
      "outputs": [],
      "source": [
        "# Setup Awal (Jalankan sel ini jika di Colab atau environment baru)\n",
        "# !pip install transformers torch notebook"
      ]
    },
    {
      "cell_type": "code",
      "source": [
        "# Import library\n",
        "from transformers import AutoTokenizer, AutoModelForCausalLM\n",
        "import torch\n",
        "import logging\n",
        "import sys\n",
        "import importlib\n",
        "\n",
        "# Memaksa Konfigurasi Ulang Logging\n",
        "importlib.reload(logging)\n",
        "logging.basicConfig(\n",
        "    level=logging.INFO, # Tampilkan pesan INFO\n",
        "    format='%(levelname)s: %(message)s',\n",
        "    stream=sys.stdout # Paksa output ke stdout (yang ditangkap notebook)\n",
        ")\n",
        "# -----------------------------\n",
        "\n",
        "logging.info(\"Setup selesai. Library siap digunakan.\")"
      ],
      "metadata": {
        "colab": {
          "base_uri": "https://localhost:8080/"
        },
        "id": "jFm12KNvFdtm",
        "outputId": "5c9539fe-63d1-4df2-a0fc-a071a29f329d"
      },
      "execution_count": 2,
      "outputs": [
        {
          "output_type": "stream",
          "name": "stdout",
          "text": [
            "INFO: Setup selesai. Library siap digunakan.\n"
          ]
        }
      ]
    },
    {
      "cell_type": "markdown",
      "source": [
        "---\n",
        "### Bagian 1: Eksplorasi Tokenization (Konsep 2.2)\n",
        "Kita akan lihat bagaimana tokenizer Hugging Face memecah teks menjadi token, termasuk subword."
      ],
      "metadata": {
        "id": "5koGFnaQIdBb"
      }
    },
    {
      "cell_type": "markdown",
      "source": [
        "# Memuat Tokenizer"
      ],
      "metadata": {
        "id": "O6GPTBDXGCZy"
      }
    },
    {
      "cell_type": "code",
      "source": [
        "# Pilih tokenizer (coba ganti-ganti!)\n",
        "# tokenizer_name = \"bert-base-uncased\"\n",
        "tokenizer_name = \"Qwen/Qwen2.5-0.5B-Instruct\" # Contoh lain\n",
        "# tokenizer_name = \"indobenchmark/indobert-base-p1\" # Contoh tokenizer Bahasa Indonesia\n",
        "\n",
        "try:\n",
        "    tokenizer = AutoTokenizer.from_pretrained(tokenizer_name)\n",
        "    logging.info(f\"Tokenizer '{tokenizer_name}' berhasil dimuat.\")\n",
        "    # Cek & set pad_token jika perlu (penting nanti untuk generate)\n",
        "    if tokenizer.pad_token is None:\n",
        "        if tokenizer.eos_token:\n",
        "            tokenizer.pad_token = tokenizer.eos_token\n",
        "            logging.info(\"Menggunakan eos_token sebagai pad_token.\")\n",
        "        else:\n",
        "            # Jika eos_token juga tidak ada, tambahkan token baru\n",
        "            tokenizer.add_special_tokens({'pad_token': '[PAD]'})\n",
        "            logging.warning(\"Menambahkan [PAD] sebagai pad_token baru.\")\n",
        "\n",
        "except Exception as e:\n",
        "    logging.error(f\"Gagal memuat tokenizer '{tokenizer_name}': {e}\")\n",
        "    # Berhenti di sini jika tokenizer gagal dimuat\n",
        "    raise"
      ],
      "metadata": {
        "colab": {
          "base_uri": "https://localhost:8080/",
          "height": 287,
          "referenced_widgets": [
            "cdd258cd2cdf43eabd1c944f89dbc058",
            "28a1b9aa0e304f81b421f2a135091458",
            "2080244503a1481e9d8750a49ae14cd7",
            "131a7e6eed4149649f728ba9449719d4",
            "c5b94c1e83c94664b01ce7f0e0740c7d",
            "2396f6847bc64d5badb1093cf079aa21",
            "8675d8a1b9af4e56ab930db9d3ea5b24",
            "a4c9f2190e51444388d2fb8ea53e76d8",
            "9b96a94547c84452adfa6908389475dc",
            "84777d6ff01c4b5c808f09e1e8c52b21",
            "2168c70986f948d1a6030d3e55c5a89b",
            "c5cca5144657498384c21080d5cd198c",
            "0481a7e3003e45959702c2cb9634d064",
            "04a539cbb2e1405dba56ce029fd59aed",
            "647c85a3a04f432e978f58eae603bb1f",
            "f343fa9488d8437c9aaa4d200a25563e",
            "7c364fefa2834e848716396230be44fb",
            "77964db58c254aa18eb4c5e72d560bf9",
            "33ab587cab164f8dad7b597251f42695",
            "ab19a19ac7c34cd9bc9f41ec6b485560",
            "5a844add78454d62b87490c1962b507d",
            "e8f1bd1936ad463dbb19d37d25fbb8a5",
            "1f81634c533e42329deda46e8e97ff96",
            "62501ed58ddb4acba935ee28c081950f",
            "01014e53ff754ed6801c9e3ed41f0399",
            "541de12fbae642a796492f379482186d",
            "ac72982b4e6944c5ac49e009563ecd5c",
            "95b24878e9c54ac78c7015269f06d475",
            "f43e507ed4694094ab7d7d406a8d2309",
            "6dec3d35114141f390d7666cc7ed7c09",
            "0e1a11c589a6457d96cd7fd8c0ad7874",
            "d367f1e6b5b24b858204c6072d77fafb",
            "7082c366d18244f585ce736a1128081c",
            "fad73035e479476b92ac76de9d843a92",
            "8c6637dd1cd848fabce82ab32f2019f6",
            "b53c2497d3c2455989d4996325e2162b",
            "9f3d21423643449cafee76efbf0997ec",
            "5c6a0ed3e7454234bd93dd05d6aacac5",
            "cdcfd6c0d9544c1095da5b5b6456e067",
            "13ec287d5b384ad091d096e0cbacc97a",
            "54324f51e8024791beb482542b1bc43d",
            "3de990186937469fa120f047162206e0",
            "e046f10914c24ce4a65f564bac319120",
            "38f4898c5939486abbcc1b87680c58f6"
          ]
        },
        "id": "V3RyPshTFgOL",
        "outputId": "200323f8-2dc8-4d61-f4b1-91cc136a99fb"
      },
      "execution_count": 3,
      "outputs": [
        {
          "output_type": "stream",
          "name": "stderr",
          "text": [
            "/usr/local/lib/python3.12/dist-packages/huggingface_hub/utils/_auth.py:94: UserWarning: \n",
            "The secret `HF_TOKEN` does not exist in your Colab secrets.\n",
            "To authenticate with the Hugging Face Hub, create a token in your settings tab (https://huggingface.co/settings/tokens), set it as secret in your Google Colab and restart your session.\n",
            "You will be able to reuse this secret in all of your notebooks.\n",
            "Please note that authentication is recommended but still optional to access public models or datasets.\n",
            "  warnings.warn(\n"
          ]
        },
        {
          "output_type": "display_data",
          "data": {
            "text/plain": [
              "tokenizer_config.json: 0.00B [00:00, ?B/s]"
            ],
            "application/vnd.jupyter.widget-view+json": {
              "version_major": 2,
              "version_minor": 0,
              "model_id": "cdd258cd2cdf43eabd1c944f89dbc058"
            }
          },
          "metadata": {}
        },
        {
          "output_type": "display_data",
          "data": {
            "text/plain": [
              "vocab.json: 0.00B [00:00, ?B/s]"
            ],
            "application/vnd.jupyter.widget-view+json": {
              "version_major": 2,
              "version_minor": 0,
              "model_id": "c5cca5144657498384c21080d5cd198c"
            }
          },
          "metadata": {}
        },
        {
          "output_type": "display_data",
          "data": {
            "text/plain": [
              "merges.txt: 0.00B [00:00, ?B/s]"
            ],
            "application/vnd.jupyter.widget-view+json": {
              "version_major": 2,
              "version_minor": 0,
              "model_id": "1f81634c533e42329deda46e8e97ff96"
            }
          },
          "metadata": {}
        },
        {
          "output_type": "display_data",
          "data": {
            "text/plain": [
              "tokenizer.json: 0.00B [00:00, ?B/s]"
            ],
            "application/vnd.jupyter.widget-view+json": {
              "version_major": 2,
              "version_minor": 0,
              "model_id": "fad73035e479476b92ac76de9d843a92"
            }
          },
          "metadata": {}
        },
        {
          "output_type": "stream",
          "name": "stdout",
          "text": [
            "INFO: Tokenizer 'Qwen/Qwen2.5-0.5B-Instruct' berhasil dimuat.\n"
          ]
        }
      ]
    },
    {
      "cell_type": "code",
      "source": [
        "kalimat_contoh = [\n",
        "    \"Pembelajaran mesin berkembang pesat.\",\n",
        "    \"Unbelievably complex tokenization!\",\n",
        "    \"Ayo makan nasi goreng.\",\n",
        "    \"Kantor Kominfo ada di Jakarta.\" # Contoh dengan nama/lokasi\n",
        "]\n",
        "\n",
        "for kalimat in kalimat_contoh:\n",
        "    print(f\"\\nKalimat Input: '{kalimat}'\")\n",
        "    # Tokenisasi (mendapatkan dictionary)\n",
        "    hasil_tokenisasi = tokenizer(kalimat)\n",
        "    input_ids = hasil_tokenisasi['input_ids']\n",
        "    print(f\"-> input_ids: {input_ids}\")\n",
        "\n",
        "    # Konversi ID kembali ke token untuk dilihat\n",
        "    tokens = tokenizer.convert_ids_to_tokens(input_ids)\n",
        "    # Beberapa tokenizer menambahkan spasi khusus (misal Ġ), kita bisa hilangkan utk kejelasan\n",
        "    tokens_cleaned = [t.replace('Ġ', '') for t in tokens]\n",
        "    print(f\"-> Tokens     : {tokens_cleaned}\") # Token setelah dibersihkan\n",
        "    print(f\"-> Jumlah Tokens: {len(tokens)}\")"
      ],
      "metadata": {
        "colab": {
          "base_uri": "https://localhost:8080/"
        },
        "id": "rvaDyVhiFyvq",
        "outputId": "5853fc21-db4e-4beb-ae69-29064654ee9f"
      },
      "execution_count": 4,
      "outputs": [
        {
          "output_type": "stream",
          "name": "stdout",
          "text": [
            "\n",
            "Kalimat Input: 'Pembelajaran mesin berkembang pesat.'\n",
            "-> input_ids: [47, 8858, 301, 84033, 10846, 258, 96583, 8858, 524, 18050, 266, 13]\n",
            "-> Tokens     : ['P', 'emb', 'el', 'ajaran', 'mes', 'in', 'berk', 'emb', 'ang', 'pes', 'at', '.']\n",
            "-> Jumlah Tokens: 12\n",
            "\n",
            "Kalimat Input: 'Unbelievably complex tokenization!'\n",
            "-> input_ids: [1806, 31798, 88134, 6351, 3950, 2022, 0]\n",
            "-> Tokens     : ['Un', 'belie', 'vably', 'complex', 'token', 'ization', '!']\n",
            "-> Jumlah Tokens: 7\n",
            "\n",
            "Kalimat Input: 'Ayo makan nasi goreng.'\n",
            "-> input_ids: [32, 16032, 296, 19262, 308, 10215, 90432, 968, 13]\n",
            "-> Tokens     : ['A', 'yo', 'm', 'akan', 'n', 'asi', 'gore', 'ng', '.']\n",
            "-> Jumlah Tokens: 9\n",
            "\n",
            "Kalimat Input: 'Kantor Kominfo ada di Jakarta.'\n",
            "-> input_ids: [42, 88167, 26692, 2733, 34234, 1853, 63033, 13]\n",
            "-> Tokens     : ['K', 'antor', 'Kom', 'info', 'ada', 'di', 'Jakarta', '.']\n",
            "-> Jumlah Tokens: 8\n"
          ]
        }
      ]
    },
    {
      "cell_type": "markdown",
      "source": [
        "**Observasi:**\n",
        "* Perhatikan bagaimana kata-kata dipecah. Apakah ada yang menjadi *subword* (ditandai `##` di BERT, atau cara lain di model berbeda)?\n",
        "* Kata umum vs. kata langka/nama, bagaimana tokenisasinya?\n",
        "* Apakah ada token spesial yang ditambahkan (`[CLS]`, `[SEP]` untuk BERT, `<|endoftext|>` untuk GPT/Qwen)?\n",
        "* **Eksperimen:** Coba masukkan kalimat Anda sendiri di sel atas dan lihat hasilnya!"
      ],
      "metadata": {
        "id": "BzqNfyVWIiJM"
      }
    },
    {
      "cell_type": "code",
      "source": [
        "# Pilih model generatif KECIL (sesuaikan jika environment kuat)\n",
        "# model_name_gen = \"distilgpt2\" # Sangat ringan, tapi mungkin kurang pintar\n",
        "model_name_gen = \"Qwen/Qwen2.5-0.5B-Instruct\" # Lebih baik jika RAM/VRAM cukup\n",
        "\n",
        "try:\n",
        "    # Muat tokenizer & model untuk generasi\n",
        "    tokenizer_gen = AutoTokenizer.from_pretrained(model_name_gen)\n",
        "    model_gen = AutoModelForCausalLM.from_pretrained(model_name_gen)\n",
        "    logging.info(f\"Model generatif '{model_name_gen}' berhasil dimuat.\")\n",
        "\n",
        "    # Set pad_token jika belum ada\n",
        "    if tokenizer_gen.pad_token is None:\n",
        "        if tokenizer_gen.eos_token:\n",
        "            tokenizer_gen.pad_token = tokenizer_gen.eos_token\n",
        "            logging.info(\"Menggunakan eos_token sebagai pad_token untuk generasi.\")\n",
        "        else:\n",
        "            tokenizer_gen.add_special_tokens({'pad_token': '[PAD]'})\n",
        "            model_gen.resize_token_embeddings(len(tokenizer_gen)) # Penting jika tambah token\n",
        "            logging.warning(\"Menambahkan [PAD] dan resize embedding model.\")\n",
        "\n",
        "    # Siapkan device\n",
        "    device = torch.device(\"cuda\" if torch.cuda.is_available() else \"cpu\")\n",
        "    model_gen.to(device)\n",
        "    logging.info(f\"Model generatif dipindahkan ke {device}.\")\n",
        "\n",
        "    prompt = \"Kucing adalah jenis\"\n",
        "    logging.info(f\"\\nPrompt Awal: '{prompt}'\")\n",
        "\n",
        "    model_ready = True # Tandai model siap\n",
        "\n",
        "except Exception as e:\n",
        "    logging.error(f\"Gagal memuat atau menjalankan model generatif: {e}\", exc_info=True)\n",
        "    print(\"\\n[INFO] Bagian Eksplorasi Sampling tidak dapat dijalankan.\")\n",
        "    print(\"      Pastikan Anda memiliki koneksi internet yang stabil dan RAM/VRAM yang cukup.\")\n",
        "    print(\"      Jika menggunakan Colab gratis, coba restart Runtime dan pilih GPU.\")\n",
        "    model_ready = False # Tandai model tidak siap"
      ],
      "metadata": {
        "colab": {
          "base_uri": "https://localhost:8080/"
        },
        "id": "iAQ370mkF0Az",
        "outputId": "262bca2f-db1d-4e80-eb8d-c7cbb9ee466b"
      },
      "execution_count": 16,
      "outputs": [
        {
          "output_type": "stream",
          "name": "stdout",
          "text": [
            "INFO: loading weights file model.safetensors from cache at /root/.cache/huggingface/hub/models--Qwen--Qwen2.5-0.5B-Instruct/snapshots/7ae557604adf67be50417f59c2c2f167def9a775/model.safetensors\n",
            "INFO: Model generatif 'Qwen/Qwen2.5-0.5B-Instruct' berhasil dimuat.\n",
            "INFO: Model generatif dipindahkan ke cpu.\n",
            "INFO: \n",
            "Prompt Awal: 'Kucing adalah jenis'\n"
          ]
        }
      ]
    },
    {
      "cell_type": "markdown",
      "source": [
        "---\n",
        "### Bagian 2: Eksplorasi Sampling (Konsep 2.4)\n",
        "Kita akan gunakan model generatif kecil untuk melihat efek parameter sampling.\n",
        "**Peringatan:** Menjalankan model butuh RAM/VRAM yang cukup. Jika Colab gratis, mungkin perlu *runtime* GPU."
      ],
      "metadata": {
        "id": "yhyV1fFPIpoM"
      }
    },
    {
      "cell_type": "markdown",
      "source": [
        "# Greedy Search"
      ],
      "metadata": {
        "id": "ibh6s9QFGfHM"
      }
    },
    {
      "cell_type": "code",
      "source": [
        "if model_ready:\n",
        "    with torch.no_grad(): # Selalu pakai no_grad() saat inference\n",
        "        # 1. Greedy Search (do_sample=False)\n",
        "        print(\"\\n--- 1. Greedy Search (Deterministik) ---\")\n",
        "        for i in range(2): # Jalankan 2 kali\n",
        "            output_greedy = model_gen.generate(\n",
        "                **tokenizer_gen(prompt, return_tensors=\"pt\").to(device),\n",
        "                max_new_tokens=30,\n",
        "                pad_token_id=tokenizer_gen.pad_token_id,\n",
        "                do_sample=False\n",
        "            )\n",
        "            print(f\"Run {i+1}: {tokenizer_gen.decode(output_greedy[0], skip_special_tokens=True)}\")\n",
        "else:\n",
        "    print(\"Model tidak siap, lewati Greedy Search.\")"
      ],
      "metadata": {
        "colab": {
          "base_uri": "https://localhost:8080/"
        },
        "id": "IBb7ZVGmGNA7",
        "outputId": "b9ff646e-f50c-46f0-97af-4d0f7af08a47"
      },
      "execution_count": 17,
      "outputs": [
        {
          "output_type": "stream",
          "name": "stdout",
          "text": [
            "\n",
            "--- 1. Greedy Search (Deterministik) ---\n",
            "Run 1: Kucing adalah jenis kucing yang sangat populer di Indonesia. Kucing ini memiliki banyak kelebihan dan kekurangan, baik dari segi kesehat\n",
            "Run 2: Kucing adalah jenis kucing yang sangat populer di Indonesia. Kucing ini memiliki banyak kelebihan dan kekurangan, baik dari segi kesehat\n"
          ]
        }
      ]
    },
    {
      "cell_type": "markdown",
      "source": [
        "# Temperature Tinggi"
      ],
      "metadata": {
        "id": "FiqwZJHCHKQy"
      }
    },
    {
      "cell_type": "code",
      "source": [
        "if model_ready:\n",
        "    with torch.no_grad():\n",
        "        # 2. Sampling Temperature Tinggi (Lebih Acak)\n",
        "        print(\"\\n--- 2. Sampling (Temp=1.5, TopK=0) ---\")\n",
        "        for i in range(2):\n",
        "            output_high_temp = model_gen.generate(\n",
        "                **tokenizer_gen(prompt, return_tensors=\"pt\").to(device),\n",
        "                max_new_tokens=20,\n",
        "                pad_token_id=tokenizer_gen.pad_token_id,\n",
        "                do_sample=True,\n",
        "                temperature=1.5, # Sangat tinggi, bisa mendongeng\n",
        "                top_k=0 # Top-k 0 berarti tidak aktif\n",
        "            )\n",
        "            print(f\"Run {i+1}: {tokenizer_gen.decode(output_high_temp[0], skip_special_tokens=True)}\")\n",
        "else:\n",
        "    print(\"Model tidak siap, lewati Sampling Temp Tinggi.\")"
      ],
      "metadata": {
        "colab": {
          "base_uri": "https://localhost:8080/"
        },
        "id": "oyvEwxBKGjGj",
        "outputId": "4a03e4a9-ffb8-49bb-e543-6c1d488fc7a6"
      },
      "execution_count": 18,
      "outputs": [
        {
          "output_type": "stream",
          "name": "stdout",
          "text": [
            "\n",
            "--- 2. Sampling (Temp=1.5, TopK=0) ---\n",
            "Run 1: Kucing adalah jenis饲养实践中有很大程度优势和随机产生的种群,由爱尔兰荷尔德曼犬寡分支\n",
            "Run 2: Kucing adalah jenis sayap parem biaya utama cost kingkiller %()->configVars','%******/\n",
            "++warehouse<<\n"
          ]
        }
      ]
    },
    {
      "cell_type": "markdown",
      "source": [
        "# Temperature Rendah"
      ],
      "metadata": {
        "id": "0ICUS4aVHgR9"
      }
    },
    {
      "cell_type": "code",
      "source": [
        "if model_ready:\n",
        "    with torch.no_grad():\n",
        "        # 3. Sampling Temperature Rendah (Lebih Fokus)\n",
        "        print(\"\\n--- 3. Sampling (Temp=0.5, TopK=0) ---\")\n",
        "        for i in range(2):\n",
        "            output_low_temp = model_gen.generate(\n",
        "                **tokenizer_gen(prompt, return_tensors=\"pt\").to(device),\n",
        "                max_new_tokens=20,\n",
        "                pad_token_id=tokenizer_gen.pad_token_id,\n",
        "                do_sample=True,\n",
        "                temperature=0.5, # Lebih rendah, lebih fokus\n",
        "                top_k=0\n",
        "            )\n",
        "            print(f\"Run {i+1}: {tokenizer_gen.decode(output_low_temp[0], skip_special_tokens=True)}\")\n",
        "else:\n",
        "    print(\"Model tidak siap, lewati Sampling Temp Rendah.\")"
      ],
      "metadata": {
        "colab": {
          "base_uri": "https://localhost:8080/"
        },
        "id": "4Nk2CMtMHJup",
        "outputId": "a0caf4c2-d192-4ce6-bf83-cf4de0a6ca11"
      },
      "execution_count": 19,
      "outputs": [
        {
          "output_type": "stream",
          "name": "stdout",
          "text": [
            "\n",
            "--- 3. Sampling (Temp=0.5, TopK=0) ---\n",
            "Run 1: Kucing adalah jenis kecil dan bergerak dengan cepat. Namun, mereka juga memiliki beberapa keterampil\n",
            "Run 2: Kucing adalah jenis kecil yang memiliki kemampuan untuk bermain dengan baik. Mereka dapat melihat dan\n"
          ]
        }
      ]
    },
    {
      "cell_type": "markdown",
      "source": [
        "# Top-k"
      ],
      "metadata": {
        "id": "HrAxRPbpIBnF"
      }
    },
    {
      "cell_type": "code",
      "source": [
        "if model_ready:\n",
        "    with torch.no_grad():\n",
        "        # 4. Sampling Top-k (Filter Kandidat)\n",
        "        print(\"\\n--- 4. Sampling (Temp=1.0, TopK=50) ---\")\n",
        "        output_topk = model_gen.generate(\n",
        "            **tokenizer_gen(prompt, return_tensors=\"pt\").to(device),\n",
        "            max_new_tokens=20,\n",
        "            pad_token_id=tokenizer_gen.pad_token_id,\n",
        "            do_sample=True,\n",
        "            temperature=1.0, # Default temp\n",
        "            top_k=50 # Hanya pilih dari 50 kata paling mungkin\n",
        "        )\n",
        "        print(tokenizer_gen.decode(output_topk[0], skip_special_tokens=True))\n",
        "else:\n",
        "    print(\"Model tidak siap, lewati Sampling Top-k.\")"
      ],
      "metadata": {
        "colab": {
          "base_uri": "https://localhost:8080/"
        },
        "id": "U7SYwsyQICjf",
        "outputId": "874bf108-1f52-4405-e788-e50322f66f47"
      },
      "execution_count": 20,
      "outputs": [
        {
          "output_type": "stream",
          "name": "stdout",
          "text": [
            "\n",
            "--- 4. Sampling (Temp=1.0, TopK=50) ---\n",
            "Kucing adalah jenis kecil yang seringkali diingatkan sebagai bahan utama dalam sistem diet s\n"
          ]
        }
      ]
    },
    {
      "cell_type": "markdown",
      "source": [
        "# Top-p"
      ],
      "metadata": {
        "id": "0o_gL8xJIGXq"
      }
    },
    {
      "cell_type": "code",
      "source": [
        "if model_ready:\n",
        "    with torch.no_grad():\n",
        "        # 5. Sampling Top-p (Nucleus) - Paling Umum\n",
        "        print(\"\\n--- 5. Sampling (Temp=1.0, TopP=0.9) ---\")\n",
        "        output_topp = model_gen.generate(\n",
        "            **tokenizer_gen(prompt, return_tensors=\"pt\").to(device),\n",
        "            max_new_tokens=20,\n",
        "            pad_token_id=tokenizer_gen.pad_token_id,\n",
        "            do_sample=True,\n",
        "            temperature=1.0, # Default temp\n",
        "            top_p=0.9, # Pilih dari kata teratas hingga total prob 90%\n",
        "            top_k=0 # Matikan top-k jika pakai top-p\n",
        "        )\n",
        "        print(tokenizer_gen.decode(output_topp[0], skip_special_tokens=True))\n",
        "else:\n",
        "    print(\"Model tidak siap, lewati Sampling Top-p.\")"
      ],
      "metadata": {
        "colab": {
          "base_uri": "https://localhost:8080/"
        },
        "id": "Vv6UZA9sIFxU",
        "outputId": "1de0a9ea-8344-4ef6-b926-9412a3ea50b0"
      },
      "execution_count": 21,
      "outputs": [
        {
          "output_type": "stream",
          "name": "stdout",
          "text": [
            "\n",
            "--- 5. Sampling (Temp=1.0, TopP=0.9) ---\n",
            "Kucing adalah jenis burung yang berbaya dengan keunikan khas yang sama - ikat tangan tan\n"
          ]
        }
      ]
    },
    {
      "cell_type": "markdown",
      "source": [
        "**Observasi:**\n",
        "* Bandingkan hasil *Greedy Search* (selalu sama) dengan metode *sampling* lainnya (bervariasi).\n",
        "* Lihat bagaimana *Temperature* tinggi bisa menghasilkan teks yang lebih aneh/tidak koheren.\n",
        "* Perhatikan bagaimana *Top-k* dan *Top-p* cenderung menghasilkan teks yang lebih masuk akal dibandingkan *Temperature* tinggi saja.\n",
        "* **Eksperimen:** Coba ubah nilai `temperature`, `top_k`, `top_p`, atau `max_new_tokens`. Coba juga *prompt* yang berbeda!"
      ],
      "metadata": {
        "id": "7Tz5jxLoIuy2"
      }
    },
    {
      "cell_type": "code",
      "source": [],
      "metadata": {
        "id": "q25hWSUyIvPe"
      },
      "execution_count": null,
      "outputs": []
    }
  ]
}